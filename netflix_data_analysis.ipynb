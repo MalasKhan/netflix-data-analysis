{
  "nbformat": 4,
  "nbformat_minor": 0,
  "metadata": {
    "colab": {
      "provenance": [],
      "toc_visible": true,
      "authorship_tag": "ABX9TyM3QR/MVMV7yynpWfqy0/Tn",
      "include_colab_link": true
    },
    "kernelspec": {
      "name": "python3",
      "display_name": "Python 3"
    },
    "language_info": {
      "name": "python"
    }
  },
  "cells": [
    {
      "cell_type": "markdown",
      "metadata": {
        "id": "view-in-github",
        "colab_type": "text"
      },
      "source": [
        "<a href=\"https://colab.research.google.com/github/MalasKhan/netflix-data-analysis/blob/main/netflix_data_analysis.ipynb\" target=\"_parent\"><img src=\"https://colab.research.google.com/assets/colab-badge.svg\" alt=\"Open In Colab\"/></a>"
      ]
    },
    {
      "cell_type": "code",
      "execution_count": 5,
      "metadata": {
        "colab": {
          "base_uri": "https://localhost:8080/"
        },
        "id": "8sSWtR37a7FA",
        "outputId": "2ece44ed-9929-4211-8158-898e624e922f"
      },
      "outputs": [
        {
          "output_type": "stream",
          "name": "stdout",
          "text": [
            "<class 'pandas.core.frame.DataFrame'>\n",
            "RangeIndex: 8807 entries, 0 to 8806\n",
            "Data columns (total 12 columns):\n",
            " #   Column        Non-Null Count  Dtype \n",
            "---  ------        --------------  ----- \n",
            " 0   show_id       8807 non-null   object\n",
            " 1   type          8807 non-null   object\n",
            " 2   title         8807 non-null   object\n",
            " 3   director      6173 non-null   object\n",
            " 4   cast          7982 non-null   object\n",
            " 5   country       7976 non-null   object\n",
            " 6   date_added    8797 non-null   object\n",
            " 7   release_year  8807 non-null   int64 \n",
            " 8   rating        8803 non-null   object\n",
            " 9   duration      8804 non-null   object\n",
            " 10  listed_in     8807 non-null   object\n",
            " 11  description   8807 non-null   object\n",
            "dtypes: int64(1), object(11)\n",
            "memory usage: 825.8+ KB\n",
            "None\n"
          ]
        }
      ],
      "source": [
        "#Importing important libraries\n",
        "import pandas as pd\n",
        "import matplotlib.pyplot as plt\n",
        "\n",
        "#reading the file\n",
        "df = pd.read_csv(\"netflix_titles.csv\")\n",
        "print(df.info())"
      ]
    },
    {
      "cell_type": "markdown",
      "source": [
        "# New Section"
      ],
      "metadata": {
        "id": "r9oOqgzeC7Ng"
      }
    },
    {
      "cell_type": "code",
      "source": [
        "#check for null values\n",
        "print(df.isnull().sum())"
      ],
      "metadata": {
        "colab": {
          "base_uri": "https://localhost:8080/"
        },
        "id": "zUBiuOLuda9i",
        "outputId": "a3bc7ec9-1991-47c6-ebf3-296a1ed0496f"
      },
      "execution_count": 6,
      "outputs": [
        {
          "output_type": "stream",
          "name": "stdout",
          "text": [
            "show_id            0\n",
            "type               0\n",
            "title              0\n",
            "director        2634\n",
            "cast             825\n",
            "country          831\n",
            "date_added        10\n",
            "release_year       0\n",
            "rating             4\n",
            "duration           3\n",
            "listed_in          0\n",
            "description        0\n",
            "dtype: int64\n"
          ]
        }
      ]
    },
    {
      "cell_type": "code",
      "source": [
        "#filling null elements of df[country] with string to indentify\n",
        "df[\"country\"] = df[\"country\"].fillna(\"Unknown\")\n",
        "\n",
        "#draopping elements with null ratings\n",
        "df.dropna(subset = [\"rating\"], inplace = True)\n",
        "\n",
        "#dropping missing date added rows\n",
        "df.dropna(subset=[\"duration\"], inplace=True)\n",
        "\n",
        "# Reset index after drops\n",
        "df.reset_index(drop=True, inplace=True)"
      ],
      "metadata": {
        "id": "qf9PpkVyduRf"
      },
      "execution_count": 7,
      "outputs": []
    },
    {
      "cell_type": "code",
      "source": [
        "#Analysis:  How many Movies vs TV Shows?\n",
        "typecount = df[\"type\"].value_counts()\n",
        "typecount.plot(kind = \"bar\", color = [\"red\", \"Green\"], edgecolor = \"black\")\n",
        "plt.title(\"Movies vs TV Shows\")\n",
        "plt.xlabel(\"Type\")\n",
        "plt.ylabel(\"Count\")\n",
        "plt.grid(axis='y', linestyle='-', alpha=0.7)\n",
        "plt.show()"
      ],
      "metadata": {
        "colab": {
          "base_uri": "https://localhost:8080/",
          "height": 517
        },
        "id": "LLGlC9ngJNg0",
        "outputId": "cfc87bc3-0fc9-4d8f-afbc-da68d1f32d7a"
      },
      "execution_count": 8,
      "outputs": [
        {
          "output_type": "display_data",
          "data": {
            "text/plain": [
              "<Figure size 640x480 with 1 Axes>"
            ],
            "image/png": "[encoded data removed]"
          },
          "metadata": {}
        }
      ]
    },
    {
      "cell_type": "code",
      "source": [
        "print(df['rating'].unique())\n",
        "\n",
        "# validating elements to used in next analysis\n",
        "valid_cols = df[(df['type'] == 'movies') & (df['rating'].notnull()) & (df['release_year'].notnull())]\n",
        "\n",
        "# Create rating age groups\n",
        "under_18 = ['G', 'TV-G', 'PG', 'TV-PG', 'PG-13', 'TV-14']\n",
        "over_18 = ['R', 'TV-MA', 'NC-17']\n",
        "\n",
        "# under 18 rows\n",
        "under_18 = valid_cols[valid_cols['rating'].isin(under_18)]['release_year'].value_counts().sort_index()\n",
        "\n",
        "# over 18 rows\n",
        "over_18 = valid_cols[valid_cols['rating'].isin(over_18)]['release_year'].value_counts().sort_index()"
      ],
      "metadata": {
        "colab": {
          "base_uri": "https://localhost:8080/"
        },
        "id": "AftSkPCPMZal",
        "outputId": "9ead03a6-f868-4f3f-80dc-bba8aa4c16a8"
      },
      "execution_count": 15,
      "outputs": [
        {
          "output_type": "stream",
          "name": "stdout",
          "text": [
            "['PG-13' 'TV-MA' 'PG' 'TV-14' 'TV-PG' 'TV-Y' 'TV-Y7' 'R' 'TV-G' 'G'\n",
            " 'NC-17' 'NR' 'TV-Y7-FV' 'UR']\n"
          ]
        }
      ]
    },
    {
      "cell_type": "code",
      "source": [
        "plt.figure(figsize=(10, 6))\n",
        "\n",
        "#line under 18\n",
        "under_18.plot(label='Under 18 Rated', marker='o', color='royalblue')\n",
        "\n",
        "#line over 18\n",
        "over_18.plot(marker='o', linestyle='-', color='red', label='Over 18')\n",
        "\n",
        "plt.show()"
      ],
      "metadata": {
        "colab": {
          "base_uri": "https://localhost:8080/",
          "height": 542
        },
        "id": "RWoDcGqACMZ0",
        "outputId": "6229e1a7-1897-42b1-dafd-c09174e7da4d"
      },
      "execution_count": 19,
      "outputs": [
        {
          "output_type": "display_data",
          "data": {
            "text/plain": [
              "<Figure size 1000x600 with 1 Axes>"
            ],
            "image/png": "[encoded data removed]"
          },
          "metadata": {}
        }
      ]
    }
  ]
}